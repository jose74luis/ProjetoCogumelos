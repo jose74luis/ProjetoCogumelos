{
 "cells": [
  {
   "cell_type": "markdown",
   "id": "82659050",
   "metadata": {},
   "source": [
    "### Importando os pacotes"
   ]
  },
  {
   "cell_type": "code",
   "execution_count": null,
   "id": "06e9d15c",
   "metadata": {},
   "outputs": [],
   "source": [
    "import pandas as pd\n",
    "import numpy as np\n",
    "from sklearn.preprocessing import OneHotEncoder\n",
    "from sklearn.linear_model import LogisticRegression\n",
    "from sklearn.model_selection import train_test_split\n",
    "from sklearn.metrics import accuracy_score, precision_score, recall_score\n",
    "from sklearn.tree import DecisionTreeClassifier\n",
    "from statsmodels.regression.linear_model import OLS\n",
    "from statsmodels.tools.tools import add_constant\n",
    "from statsmodels.stats.outliers_influence import variance_inflation_factor as vif\n",
    "from scipy.stats import kendalltau\n",
    "import warnings\n",
    "warnings.filterwarnings(\"ignore\")"
   ]
  },
  {
   "cell_type": "markdown",
   "id": "7fd106a7",
   "metadata": {},
   "source": [
    "### Abrindo o dataset"
   ]
  },
  {
   "cell_type": "code",
   "execution_count": null,
   "id": "6685c5b8",
   "metadata": {},
   "outputs": [],
   "source": [
    "dados = pd.read_csv('mushrooms.csv')\n",
    "dados.head()"
   ]
  },
  {
   "cell_type": "markdown",
   "id": "eb84d7a4",
   "metadata": {},
   "source": [
    "### Verificando os detalhes do dataset"
   ]
  },
  {
   "cell_type": "code",
   "execution_count": null,
   "id": "a5ac6115",
   "metadata": {},
   "outputs": [],
   "source": [
    "dados.info()"
   ]
  },
  {
   "cell_type": "markdown",
   "id": "52542a6e",
   "metadata": {},
   "source": [
    "### Realizando uma análise descritiva"
   ]
  },
  {
   "cell_type": "code",
   "execution_count": null,
   "id": "c7019fc7",
   "metadata": {},
   "outputs": [],
   "source": [
    "# Verificando o balanceamento da variável \"class\"\n",
    "dados['class'].value_counts()"
   ]
  },
  {
   "cell_type": "code",
   "execution_count": null,
   "id": "c5012b61",
   "metadata": {},
   "outputs": [],
   "source": [
    "# Verificando a quantidade de valores diferentes de cada variável\n",
    "for i in list(dados.columns):\n",
    "    print(i, dados[i].nunique())"
   ]
  },
  {
   "cell_type": "code",
   "execution_count": null,
   "id": "e9666213",
   "metadata": {},
   "outputs": [],
   "source": [
    "# Verificando a distribuição dos valores de cada variável\n",
    "for classe in list(dados.columns):\n",
    "    print(classe,'\\n', dados[classe].value_counts())"
   ]
  },
  {
   "cell_type": "markdown",
   "id": "1e29b176",
   "metadata": {},
   "source": [
    "### Separando as variáveis explicativas da variável resposta e transformando as variáveis em dummies  "
   ]
  },
  {
   "cell_type": "code",
   "execution_count": null,
   "id": "d679a83f",
   "metadata": {},
   "outputs": [],
   "source": [
    "X = dados.drop(columns=['class'])\n",
    "y = dados[['class']]"
   ]
  },
  {
   "cell_type": "code",
   "execution_count": null,
   "id": "798f033e",
   "metadata": {},
   "outputs": [],
   "source": [
    "def create_encoder(data):\n",
    "    dummy_encoder = OneHotEncoder(drop=\"first\", sparse=False)\n",
    "    dummy_encoder.fit(data)\n",
    "    return dummy_encoder\n",
    "\n",
    "def encode(data, enc, features):\n",
    "    data_dummy = enc.transform(data)\n",
    "    data_dummy = pd.DataFrame(data=data_dummy, columns=enc.get_feature_names_out())\n",
    "    data_dummy = data_dummy[features]\n",
    "    return data_dummy"
   ]
  },
  {
   "cell_type": "code",
   "execution_count": null,
   "id": "985efc95",
   "metadata": {},
   "outputs": [],
   "source": [
    "enc_X = create_encoder(X)\n",
    "enc_y = create_encoder(y)"
   ]
  },
  {
   "cell_type": "code",
   "execution_count": null,
   "id": "17fb8b24",
   "metadata": {},
   "outputs": [],
   "source": [
    "features_X = enc_X.get_feature_names_out()\n",
    "X = encode(X, enc_X, features_X)"
   ]
  },
  {
   "cell_type": "code",
   "execution_count": null,
   "id": "9282f85b",
   "metadata": {},
   "outputs": [],
   "source": [
    "features_y = ['class_p']\n",
    "y = encode(y, enc_y, features_y)"
   ]
  },
  {
   "cell_type": "code",
   "execution_count": null,
   "id": "719051a6",
   "metadata": {
    "scrolled": false
   },
   "outputs": [],
   "source": [
    "X.head()"
   ]
  },
  {
   "cell_type": "code",
   "execution_count": null,
   "id": "1b42dd2c",
   "metadata": {},
   "outputs": [],
   "source": [
    "y.head()"
   ]
  },
  {
   "cell_type": "markdown",
   "id": "a68b6643",
   "metadata": {},
   "source": [
    "### Separando as variáveis de treino e teste e criando o modelo de Regressão Logística"
   ]
  },
  {
   "cell_type": "code",
   "execution_count": null,
   "id": "0041d020",
   "metadata": {},
   "outputs": [],
   "source": [
    "X_train, X_test, y_train, y_test = train_test_split(X, y, test_size=0.25, random_state=5)\n",
    "\n",
    "model = LogisticRegression()\n",
    "model.fit(X_train, y_train)\n",
    "\n",
    "y_pred = model.predict(X_test)\n",
    "\n",
    "\n",
    "print('Acurácia: %f' % accuracy_score(y_test, y_pred))\n",
    "print('Precision: %f' % precision_score(y_test, y_pred))\n",
    "print('Recall: %f' % recall_score(y_test, y_pred))"
   ]
  },
  {
   "cell_type": "markdown",
   "id": "8f815b58",
   "metadata": {},
   "source": [
    "### Verificando quais as variáveis explicativas tem maior correlação com a variável resposta"
   ]
  },
  {
   "cell_type": "code",
   "execution_count": null,
   "id": "2f77b472",
   "metadata": {},
   "outputs": [],
   "source": [
    "df_dummies = X.copy()"
   ]
  },
  {
   "cell_type": "code",
   "execution_count": null,
   "id": "0cbb544d",
   "metadata": {},
   "outputs": [],
   "source": [
    "df_dummies['class_p'] = y"
   ]
  },
  {
   "cell_type": "code",
   "execution_count": null,
   "id": "db0558c8",
   "metadata": {},
   "outputs": [],
   "source": [
    "df_dummies.head()"
   ]
  },
  {
   "cell_type": "code",
   "execution_count": null,
   "id": "ae237b91",
   "metadata": {
    "scrolled": true
   },
   "outputs": [],
   "source": [
    "corr = df_dummies.corr(method=\"kendall\")['class_p'].sort_values()\n",
    "corr.head(10)"
   ]
  },
  {
   "cell_type": "code",
   "execution_count": null,
   "id": "d7b651ad",
   "metadata": {},
   "outputs": [],
   "source": [
    "corr.tail(10)"
   ]
  },
  {
   "cell_type": "markdown",
   "id": "d6224df4",
   "metadata": {},
   "source": [
    "### Gerando o modelo de Regressão Linear para observar o P valor das variáveis"
   ]
  },
  {
   "cell_type": "code",
   "execution_count": null,
   "id": "0a6d4062",
   "metadata": {},
   "outputs": [],
   "source": [
    "model = OLS(y, add_constant(X)).fit()\n",
    "tab = model.summary().tables[1].data"
   ]
  },
  {
   "cell_type": "code",
   "execution_count": null,
   "id": "75352dfd",
   "metadata": {},
   "outputs": [],
   "source": [
    "model.summary().tables[1]"
   ]
  },
  {
   "cell_type": "markdown",
   "id": "b0233a21",
   "metadata": {},
   "source": [
    "### Checando o P valor das variáveis de maior correlação"
   ]
  },
  {
   "cell_type": "markdown",
   "id": "9eb7ba1a",
   "metadata": {},
   "source": [
    "<img src='Imagem2.png' alt='Image' height='542' width='542'>"
   ]
  },
  {
   "cell_type": "markdown",
   "id": "79e656ca",
   "metadata": {},
   "source": [
    "### Verificando a possibilidade de ocorrência de multicolinearidade das variáveis de interesse através do VIF "
   ]
  },
  {
   "cell_type": "code",
   "execution_count": null,
   "id": "f898023c",
   "metadata": {},
   "outputs": [],
   "source": [
    "selected_one_hot_features = ['bruises_t', 'odor_n', 'gill-size_n', 'odor_f', 'ring-type_l', 'spore-print-color_w']\n",
    "X_1 = X[selected_one_hot_features]\n",
    "y_1 = y"
   ]
  },
  {
   "cell_type": "code",
   "execution_count": null,
   "id": "a1866cda",
   "metadata": {},
   "outputs": [],
   "source": [
    "Xc = add_constant(X_1)\n",
    "vif_dict = {}\n",
    "for i, col in enumerate(Xc.columns):\n",
    "    vif_dict[col] = vif(Xc.values, i)\n",
    "    \n",
    "ser_vif = pd.Series(vif_dict)\n",
    "ser_vif.sort_values()"
   ]
  },
  {
   "cell_type": "markdown",
   "id": "b8cf6a3e",
   "metadata": {},
   "source": [
    "### Verificando a qualidade do modelo apenas com as variáveis de selecionadas"
   ]
  },
  {
   "cell_type": "code",
   "execution_count": null,
   "id": "bf5411a7",
   "metadata": {},
   "outputs": [],
   "source": [
    "X_1_train, X_1_test, y_1_train, y_1_test = train_test_split(X_1, y_1, test_size = 0.25, random_state = 10)\n",
    "\n",
    "model_1 = LogisticRegression()\n",
    "model_1.fit(X_1_train, y_1_train)\n",
    "\n",
    "y_1_pred = model_1.predict(X_1_test)\n",
    "\n",
    "print('Acurácia: %f' % accuracy_score(y_1_test, y_1_pred))\n",
    "print('Precision: %f' % precision_score(y_1_test, y_1_pred))\n",
    "print('Recall: %f' % recall_score(y_1_test, y_1_pred))"
   ]
  },
  {
   "cell_type": "markdown",
   "id": "7ec914b9",
   "metadata": {},
   "source": [
    "#### Com este modelo conseguimos reduzir a necessidade de variáveis de 22 para 05. São elas: bruises, odor, ring-type, gill-size e spore-print-color."
   ]
  },
  {
   "cell_type": "markdown",
   "id": "31206e88",
   "metadata": {},
   "source": [
    "### Testando modelo de Árvore de decisão com todas as variáveis e somente com as variáveis selecionadas"
   ]
  },
  {
   "cell_type": "code",
   "execution_count": null,
   "id": "defedf68",
   "metadata": {},
   "outputs": [],
   "source": [
    "# Com todas as variáveis\n",
    "model_2 = DecisionTreeClassifier()\n",
    "model_2.fit(X_train, y_train)\n",
    "\n",
    "y_2_pred = model_2.predict(X_test)\n",
    "\n",
    "print('Acurácia: %f' % accuracy_score(y_test, y_2_pred))\n",
    "print('Precision: %f' % precision_score(y_test, y_2_pred))\n",
    "print('Recall: %f' % recall_score(y_test, y_2_pred))"
   ]
  },
  {
   "cell_type": "code",
   "execution_count": null,
   "id": "1a671144",
   "metadata": {},
   "outputs": [],
   "source": [
    "# Com apenas as variáveis de interesse\n",
    "model_3 = DecisionTreeClassifier()\n",
    "model_3.fit(X_1_train, y_1_train)\n",
    "\n",
    "y_2_pred = model_3.predict(X_1_test)\n",
    "\n",
    "print('Acurácia: %f' % accuracy_score(y_1_test, y_2_pred))\n",
    "print('Precision: %f' % precision_score(y_1_test, y_2_pred))\n",
    "print('Recall: %f' % recall_score(y_1_test, y_2_pred))"
   ]
  },
  {
   "cell_type": "markdown",
   "id": "3a64b1ee",
   "metadata": {},
   "source": [
    "### Inferencia (identificando a classe para novas amostras)"
   ]
  },
  {
   "cell_type": "code",
   "execution_count": null,
   "id": "ff03c700",
   "metadata": {},
   "outputs": [],
   "source": [
    "selected_features = ['class', 'bruises', 'odor', 'ring-type', 'gill-size', 'spore-print-color']\n",
    "dados_novo = dados.loc[:10, selected_features]\n",
    "X_novo = dados_novo.drop(columns=['class'])\n",
    "y_novo = dados_novo[['class']]  # Só para testar."
   ]
  },
  {
   "cell_type": "code",
   "execution_count": null,
   "id": "7e59c29b",
   "metadata": {},
   "outputs": [],
   "source": [
    "X_novo"
   ]
  },
  {
   "cell_type": "code",
   "execution_count": null,
   "id": "7233dc7a",
   "metadata": {},
   "outputs": [],
   "source": [
    "enc_X_novo = create_encoder(X_novo)\n",
    "enc_y_novo = create_encoder(y_novo)"
   ]
  },
  {
   "cell_type": "code",
   "execution_count": null,
   "id": "96151d12",
   "metadata": {},
   "outputs": [],
   "source": [
    "features_X_novo = enc_X_novo.get_feature_names_out()"
   ]
  },
  {
   "cell_type": "code",
   "execution_count": null,
   "id": "74f7397a",
   "metadata": {},
   "outputs": [],
   "source": [
    "X_novo_aux = encode(X_novo, enc_X_novo, features_X_novo)\n",
    "y_novo_aux = encode(y_novo, enc_y, features_y)"
   ]
  },
  {
   "cell_type": "code",
   "execution_count": null,
   "id": "43e26db7",
   "metadata": {},
   "outputs": [],
   "source": [
    "X_novo_aux.head()"
   ]
  },
  {
   "cell_type": "code",
   "execution_count": null,
   "id": "31c93c02",
   "metadata": {},
   "outputs": [],
   "source": [
    "X_novo = pd.DataFrame(columns=selected_one_hot_features)"
   ]
  },
  {
   "cell_type": "code",
   "execution_count": null,
   "id": "4e1f1c69",
   "metadata": {},
   "outputs": [],
   "source": [
    "X_novo[features_X_novo] = X_novo_aux\n",
    "X_novo = X_novo[selected_one_hot_features]\n",
    "X_novo.fillna(0, inplace=True)"
   ]
  },
  {
   "cell_type": "code",
   "execution_count": null,
   "id": "cab558be",
   "metadata": {},
   "outputs": [],
   "source": [
    "X_novo.head()"
   ]
  },
  {
   "cell_type": "code",
   "execution_count": null,
   "id": "cdf7b01d",
   "metadata": {},
   "outputs": [],
   "source": [
    "y_novo_pred = model_1.predict(X_novo)\n",
    "y_novo_pred"
   ]
  },
  {
   "cell_type": "code",
   "execution_count": null,
   "id": "90c42f41",
   "metadata": {},
   "outputs": [],
   "source": [
    "for real, pred in zip(y_novo.values, y_novo_pred):\n",
    "    print(real, pred)"
   ]
  },
  {
   "cell_type": "code",
   "execution_count": null,
   "id": "74979dc3",
   "metadata": {},
   "outputs": [],
   "source": []
  }
 ],
 "metadata": {
  "kernelspec": {
   "display_name": "Python 3 (ipykernel)",
   "language": "python",
   "name": "python3"
  },
  "language_info": {
   "codemirror_mode": {
    "name": "ipython",
    "version": 3
   },
   "file_extension": ".py",
   "mimetype": "text/x-python",
   "name": "python",
   "nbconvert_exporter": "python",
   "pygments_lexer": "ipython3",
   "version": "3.9.7"
  }
 },
 "nbformat": 4,
 "nbformat_minor": 5
}
